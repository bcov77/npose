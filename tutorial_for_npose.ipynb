{
 "cells": [
  {
   "cell_type": "markdown",
   "metadata": {},
   "source": [
    "How to use npose_util\n",
    "\n",
    "First you need this terrible include"
   ]
  },
  {
   "cell_type": "code",
   "execution_count": 1,
   "metadata": {},
   "outputs": [],
   "source": [
    "\n",
    "import sys\n",
    "sys.path.append(\"/home/dzorine/software/npose/\")\n",
    "from npose_util import *"
   ]
  },
  {
   "cell_type": "code",
   "execution_count": 2,
   "metadata": {},
   "outputs": [],
   "source": [
    "from importlib import reload\n",
    "import npose_util\n",
    "reload(npose_util)\n",
    "from npose_util import *"
   ]
  },
  {
   "cell_type": "markdown",
   "metadata": {},
   "source": [
    "Then you can open a pose like this"
   ]
  },
  {
   "cell_type": "code",
   "execution_count": 3,
   "metadata": {},
   "outputs": [],
   "source": [
    "npose = npose_from_file(\"/home/bcov/sc/random/npose/ideal_helix_16.pdb\")"
   ]
  },
  {
   "cell_type": "markdown",
   "metadata": {},
   "source": [
    "nposes are actually just numpy arrays. Currently they store N, CA, CB, C, O"
   ]
  },
  {
   "cell_type": "code",
   "execution_count": 4,
   "metadata": {},
   "outputs": [
    {
     "name": "stdout",
     "output_type": "stream",
     "text": [
      "90\n",
      "18\n"
     ]
    },
    {
     "data": {
      "text/plain": [
       "array([[ 0.   ,  0.   ,  0.   ,  1.   ],\n",
       "       [ 1.458,  0.   ,  0.   ,  1.   ],\n",
       "       [ 1.988, -0.773, -1.199,  1.   ],\n",
       "       [ 2.009,  1.42 ,  0.   ,  1.   ],\n",
       "       [ 2.909,  1.747,  0.774,  1.   ]])"
      ]
     },
     "execution_count": 4,
     "metadata": {},
     "output_type": "execute_result"
    }
   ],
   "source": [
    "print(len(npose))\n",
    "print(nsize(npose))\n",
    "npose[:5]"
   ]
  },
  {
   "cell_type": "markdown",
   "metadata": {},
   "source": [
    "Or equivalently:"
   ]
  },
  {
   "cell_type": "code",
   "execution_count": 5,
   "metadata": {},
   "outputs": [
    {
     "data": {
      "text/plain": [
       "array([[ 0.   ,  0.   ,  0.   ,  1.   ],\n",
       "       [ 1.458,  0.   ,  0.   ,  1.   ],\n",
       "       [ 1.988, -0.773, -1.199,  1.   ],\n",
       "       [ 2.009,  1.42 ,  0.   ,  1.   ],\n",
       "       [ 2.909,  1.747,  0.774,  1.   ]])"
      ]
     },
     "execution_count": 5,
     "metadata": {},
     "output_type": "execute_result"
    }
   ],
   "source": [
    "npose[:R]"
   ]
  },
  {
   "cell_type": "markdown",
   "metadata": {},
   "source": [
    "You should always use R instead of 5. Later nposes will have variable number of atoms. Remember that you can find the number of residues with nsize(npose). Also, nposes start numbering at 0 not 1."
   ]
  },
  {
   "cell_type": "markdown",
   "metadata": {},
   "source": [
    "If you want individual atoms, use the constants N, CA, CB, C, O"
   ]
  },
  {
   "cell_type": "code",
   "execution_count": 10,
   "metadata": {},
   "outputs": [
    {
     "name": "stdout",
     "output_type": "stream",
     "text": [
      "[1.70799994 3.14700007 3.39499998 1.        ]\n",
      "[2.70099998 2.63800001 4.33400011 1.        ]\n",
      "[2.82999992 1.12699997 4.19999981 1.        ]\n",
      "[4.05299997 3.30599999 4.12400007 1.        ]\n",
      "[4.6960001  3.7420001  5.07800007 1.        ]\n"
     ]
    }
   ],
   "source": [
    "print(npose[3*R+N])\n",
    "print(npose[3*R+CA])\n",
    "print(npose[3*R+CB])\n",
    "print(npose[3*R+C])\n",
    "print(npose[3*R+O])"
   ]
  },
  {
   "cell_type": "markdown",
   "metadata": {},
   "source": [
    "Look at the coordinates though. Why is there an extra 1 at the end? \n",
    "That's for homogeneous transforms\n"
   ]
  },
  {
   "cell_type": "markdown",
   "metadata": {},
   "source": [
    "================================================"
   ]
  },
  {
   "cell_type": "markdown",
   "metadata": {},
   "source": [
    "There are a few more types of nposes that are important. tposes and itposes"
   ]
  },
  {
   "cell_type": "markdown",
   "metadata": {},
   "source": [
    "tpose = transform pose"
   ]
  },
  {
   "cell_type": "markdown",
   "metadata": {},
   "source": [
    "itpose = inverse tranform pose"
   ]
  },
  {
   "cell_type": "code",
   "execution_count": 7,
   "metadata": {},
   "outputs": [],
   "source": [
    "tpose = tpose_from_npose(npose)\n",
    "itpose = itpose_from_tpose(tpose)"
   ]
  },
  {
   "cell_type": "markdown",
   "metadata": {},
   "source": [
    "Let's look at what a tpose is"
   ]
  },
  {
   "cell_type": "code",
   "execution_count": 12,
   "metadata": {},
   "outputs": [
    {
     "data": {
      "text/plain": [
       "array([[ 0.68089586,  0.68785483, -0.25146881,  2.70099998],\n",
       "       [-0.34901916,  0.60661852,  0.71428257,  2.63800001],\n",
       "       [ 0.64386836, -0.39858461,  0.65311855,  4.33400011],\n",
       "       [ 0.        ,  0.        ,  0.        ,  1.        ]])"
      ]
     },
     "execution_count": 12,
     "metadata": {},
     "output_type": "execute_result"
    }
   ],
   "source": [
    "tpose[3] #transform for residue 3 (rosetta resdidue 4)"
   ]
  },
  {
   "cell_type": "markdown",
   "metadata": {},
   "source": [
    "That right there is a homogeneous transform. They're pretty neat."
   ]
  },
  {
   "cell_type": "markdown",
   "metadata": {},
   "source": [
    "In this scenario, tpose[3] will move points from the origin to the reference frame of residue 3"
   ]
  },
  {
   "cell_type": "code",
   "execution_count": 13,
   "metadata": {},
   "outputs": [
    {
     "name": "stdout",
     "output_type": "stream",
     "text": [
      "[2.70099998 2.63800001 4.33400011 1.        ]\n",
      "[2.70099998 2.63800001 4.33400011 1.        ]\n"
     ]
    }
   ],
   "source": [
    "#Example:\n",
    "pt_at_origin = np.array([0, 0, 0, 1])\n",
    "pt_at_res3 = tpose[3] @ pt_at_origin\n",
    "\n",
    "print(pt_at_res3)     # the point we moved\n",
    "print(npose[R*3+CA])  # CA of res 3"
   ]
  },
  {
   "cell_type": "markdown",
   "metadata": {},
   "source": [
    "The inverse transforms do the opposite. They move that residue to the origin"
   ]
  },
  {
   "cell_type": "code",
   "execution_count": 14,
   "metadata": {},
   "outputs": [
    {
     "name": "stdout",
     "output_type": "stream",
     "text": [
      "[0.0000000e+00 0.0000000e+00 4.4408921e-16 1.0000000e+00]\n"
     ]
    }
   ],
   "source": [
    "CA_of_res3 = npose[R*3+CA]\n",
    "CA_at_origin = itpose[3] @ CA_of_res3\n",
    "\n",
    "print(CA_at_origin)"
   ]
  },
  {
   "cell_type": "markdown",
   "metadata": {},
   "source": [
    "Now comes the cool part. You can move something to the origin, and then somewhere else:"
   ]
  },
  {
   "cell_type": "code",
   "execution_count": 15,
   "metadata": {},
   "outputs": [
    {
     "name": "stdout",
     "output_type": "stream",
     "text": [
      "[4.70800018 7.59100008 3.20300007 1.        ]\n",
      "[4.70800018 7.59100008 3.20300007 1.        ]\n"
     ]
    }
   ],
   "source": [
    "CA_of_res3 = npose[R*3+CA]\n",
    "CA_of_res3_at_res5 = tpose[5] @ itpose[3] @ CA_of_res3\n",
    "\n",
    "print(CA_of_res3_at_res5)\n",
    "print(npose[R*5+CA])"
   ]
  },
  {
   "cell_type": "markdown",
   "metadata": {},
   "source": [
    "You can even move multiple atoms at once"
   ]
  },
  {
   "cell_type": "code",
   "execution_count": 16,
   "metadata": {},
   "outputs": [
    {
     "name": "stdout",
     "output_type": "stream",
     "text": [
      "[4.7690051  6.19788467 2.77596468 1.        ] [4.76900005 6.19799995 2.77600002 1.        ]\n",
      "[4.70800018 7.59100008 3.20300007 1.        ] [4.70800018 7.59100008 3.20300007 1.        ]\n",
      "[3.38504644 8.215787   2.78210474 1.        ] [3.38599992 8.2159996  2.78299999 1.        ]\n",
      "[4.89785884 7.71590529 4.70851671 1.        ] [4.89799976 7.71500015 4.70900011 1.        ]\n",
      "[5.6725928  8.54746325 5.17964291 1.        ] [5.67299986 8.54699993 5.17999983 1.        ]\n"
     ]
    }
   ],
   "source": [
    "res3 = npose[R*3:R*4]\n",
    "res3_at_5 = xform_npose( tpose[5] @ itpose[3], res3 )\n",
    "\n",
    "# Quick note about xform_npose. This is actually just a wrapper for numpy.\n",
    "# But the numpy code is really ugly and this is way prettier\n",
    "\n",
    "for atom in [N, CA, CB, C, O]:\n",
    "    print(res3_at_5[atom], npose[R*5+atom])"
   ]
  },
  {
   "cell_type": "markdown",
   "metadata": {},
   "source": [
    "================================================"
   ]
  },
  {
   "cell_type": "markdown",
   "metadata": {},
   "source": [
    "Lets do a simple graft to show off the power of this."
   ]
  },
  {
   "cell_type": "markdown",
   "metadata": {},
   "source": [
    "We will graft a copy of npose to the end of npose to make a double-length pose"
   ]
  },
  {
   "cell_type": "code",
   "execution_count": 8,
   "metadata": {},
   "outputs": [],
   "source": [
    "last_res = nsize(npose)-1\n",
    "\n",
    "xform = tpose[last_res] @ itpose[0]\n",
    "xformed_npose = xform_npose(xform, npose)\n",
    "\n",
    "# This one has the two atoms overlapping so that it's easier to see\n",
    "overlapping_npose = np.concatenate([npose, xformed_npose])\n",
    "dump_npdb(overlapping_npose, \"overlapping_npose.pdb\")\n",
    "\n",
    "# This one has the overlap removed\n",
    "long_npose = np.concatenate([npose[:-1*R], xformed_npose])\n",
    "dump_npdb(long_npose, \"long_npose.pdb\")"
   ]
  },
  {
   "cell_type": "markdown",
   "metadata": {},
   "source": [
    "It's also easy to transform tposes and itposes"
   ]
  },
  {
   "cell_type": "code",
   "execution_count": 18,
   "metadata": {},
   "outputs": [],
   "source": [
    "xformed_tpose = xform @ tpose\n",
    "\n",
    "# for itposes you do it backwards with an inverse xform\n",
    "xformed_itpose = itpose @ np.linalg.inv(xform)"
   ]
  },
  {
   "cell_type": "markdown",
   "metadata": {},
   "source": [
    "============================================"
   ]
  },
  {
   "cell_type": "markdown",
   "metadata": {},
   "source": [
    "Phi and psi"
   ]
  },
  {
   "cell_type": "markdown",
   "metadata": {},
   "source": [
    "You can work with phi and psi angles for nposes too"
   ]
  },
  {
   "cell_type": "code",
   "execution_count": 19,
   "metadata": {},
   "outputs": [
    {
     "name": "stdout",
     "output_type": "stream",
     "text": [
      "[  0.         -56.99425898 -56.95914032 -56.97491673 -56.91845056\n",
      " -56.9156417  -56.99584666 -57.00662154 -57.00072312 -57.05231678\n",
      " -56.99501484 -57.04398276 -56.92164163 -57.02109971 -57.04409286\n",
      " -56.93604797 -57.06804164 -57.01863396]\n",
      "[-46.99647375 -47.04813326 -47.03630896 -47.03626505 -47.08831681\n",
      " -47.04757664 -46.97279356 -47.06529221 -46.92476093 -47.04326584\n",
      " -46.99913089 -46.97019058 -47.04365668 -46.98071164 -47.05524206\n",
      " -47.00171315 -46.90340192   0.        ]\n"
     ]
    }
   ],
   "source": [
    "phis = get_npose_phis(npose)\n",
    "psis = get_npose_psis(npose)\n",
    "\n",
    "print(phis)\n",
    "print(psis)"
   ]
  },
  {
   "cell_type": "markdown",
   "metadata": {},
   "source": [
    "Setting phi and psi is a little weird, you use this function"
   ]
  },
  {
   "cell_type": "code",
   "execution_count": 20,
   "metadata": {},
   "outputs": [
    {
     "name": "stdout",
     "output_type": "stream",
     "text": [
      "[  0.         -56.99425898 -56.95914032 -56.97491673  10.\n",
      " -56.9156417  -56.99584666 -57.00662154 -57.00072312 -57.05231678\n",
      " -56.99501484 -57.04398276 -56.92164163 -57.02109971 -57.04409286\n",
      " -56.93604797 -57.06804164 -57.01863396]\n",
      "[  0.         -56.99425898 -56.95914032 -56.97491673  10.\n",
      " -56.9156417  -56.99584666 -57.00662154 -57.00072312 -57.05231678\n",
      " -56.99501484 -57.04398276 -56.92164163 -57.02109971 -57.04409286\n",
      " -56.93604797 -57.06804164 -57.01863396]\n"
     ]
    }
   ],
   "source": [
    "resno = 4; phi=10\n",
    "new_npose, new_tpose, new_phis = set_npose_phi(npose, tpose, phis, resno, phi)\n",
    "print(new_phis)\n",
    "print(get_npose_phis(new_npose))"
   ]
  },
  {
   "cell_type": "markdown",
   "metadata": {},
   "source": [
    "What's interesting though. Is that if you only have CA for instance. You can still set phi and psi"
   ]
  },
  {
   "cell_type": "code",
   "execution_count": 21,
   "metadata": {},
   "outputs": [],
   "source": [
    "CAs = extract_CA(npose)\n",
    "new_CAs, new_tpose, new_phis = set_ca_phi(CAs, tpose, phis, resno, phi)"
   ]
  },
  {
   "cell_type": "markdown",
   "metadata": {},
   "source": [
    "But you can't get the the phi and psi back out of CAs"
   ]
  },
  {
   "cell_type": "markdown",
   "metadata": {},
   "source": [
    "=========================================="
   ]
  },
  {
   "cell_type": "markdown",
   "metadata": {},
   "source": [
    "Clash checking!!!!"
   ]
  },
  {
   "cell_type": "markdown",
   "metadata": {},
   "source": [
    "Perhaps one of the most important reason to use npose is for fast clash checking"
   ]
  },
  {
   "cell_type": "markdown",
   "metadata": {},
   "source": [
    "Currently clash checking is currently optimized for making changes with lever arms.\n",
    "- This inclues grafting\n",
    "- Or changing a phi or psi"
   ]
  },
  {
   "cell_type": "markdown",
   "metadata": {},
   "source": [
    "You must define a context and a test pose"
   ]
  },
  {
   "cell_type": "markdown",
   "metadata": {},
   "source": [
    "You want the context to be the pose with fewer atoms. So if you are comparing a big pose and a little pose, \n",
    "this distinction is clear. But if you are comparing one pose with hundreds of others, the one pose counts\n",
    "as the little pose because it has fewer total atoms."
   ]
  },
  {
   "cell_type": "markdown",
   "metadata": {},
   "source": [
    "For this example. We're going to change phi and psi of residue 8 and see how many clashes we get:\n",
    "- The context will be the residues 0-7\n",
    "- The test pose will be residues 8-15"
   ]
  },
  {
   "cell_type": "code",
   "execution_count": 22,
   "metadata": {},
   "outputs": [],
   "source": [
    "# build the context\n",
    "\n",
    "CAs = extract_CA(npose)\n",
    "context = CAs[:8][:,:3] # What is the context. Also this should just be xyz\n",
    "pt = context[-1][:3] # Where are the changes going to occur from?\n",
    "max_dist = 100 # what's the maximum distance you might expect to see\n",
    "\n",
    "context_by_dist, context_dist_limits = prepare_context_by_dist_and_limits(context, pt, max_dist)\n"
   ]
  },
  {
   "cell_type": "code",
   "execution_count": 23,
   "metadata": {},
   "outputs": [
    {
     "name": "stdout",
     "output_type": "stream",
     "text": [
      "1\n"
     ]
    }
   ],
   "source": [
    "# Next we build the test pose\n",
    "\n",
    "test = CAs[8:][:,:3] # What is the test region. Also this should just be xyz\n",
    "test_dists = np.linalg.norm( test - pt, axis=1) # We have to know the distance from the test pt to all test CAs\n",
    "clash_dist = 4.0 # A reasonable clash distance for CA - CA\n",
    "max_clash = 1000 # Setting this correctly makes it faster if you have a limit\n",
    "tol = 2 # How accurately did you pick the test point? Smaller is faster but you might miss something\n",
    "\n",
    "clashes = clash_check_points_context(test, test_dists, context_by_dist, \n",
    "                                     context_dist_limits, clash_dist, max_clash, tol)\n",
    "print(clashes)"
   ]
  },
  {
   "cell_type": "markdown",
   "metadata": {},
   "source": [
    "1 clash. This makes sense. The next CA is 3.8 A away"
   ]
  },
  {
   "cell_type": "markdown",
   "metadata": {},
   "source": [
    "Now lets change phi and see what happens"
   ]
  },
  {
   "cell_type": "code",
   "execution_count": 24,
   "metadata": {},
   "outputs": [
    {
     "name": "stdout",
     "output_type": "stream",
     "text": [
      "Phi:   0 Clashes:   1\n",
      "Phi:  20 Clashes:   1\n",
      "Phi:  40 Clashes:   1\n",
      "Phi:  60 Clashes:   1\n",
      "Phi:  80 Clashes:   1\n",
      "Phi: 100 Clashes:   1\n",
      "Phi: 120 Clashes:   1\n",
      "Phi: 140 Clashes:   3\n",
      "Phi: 160 Clashes:   2\n",
      "Phi: 180 Clashes:   2\n",
      "Phi: 200 Clashes:   3\n",
      "Phi: 220 Clashes:   4\n",
      "Phi: 240 Clashes:   3\n",
      "Phi: 260 Clashes:   1\n",
      "Phi: 280 Clashes:   1\n",
      "Phi: 300 Clashes:   1\n",
      "Phi: 320 Clashes:   1\n",
      "Phi: 340 Clashes:   1\n"
     ]
    }
   ],
   "source": [
    "phis = get_npose_phis(npose)\n",
    "for phi in np.arange(0, 360, 20):\n",
    "    new_CAs, new_tpose, new_phis = set_ca_phi(CAs, tpose, phis, 8, phi)\n",
    "    test = new_CAs[8:][:,:3]\n",
    "    test_dists = np.linalg.norm( test - pt, axis=1)\n",
    "\n",
    "    clashes = clash_check_points_context(test, test_dists, context_by_dist, \n",
    "                                     context_dist_limits, clash_dist, max_clash, tol)\n",
    "    \n",
    "    print(\"Phi: %3i Clashes: %3i\"%(phi, clashes))"
   ]
  },
  {
   "cell_type": "markdown",
   "metadata": {},
   "source": [
    "Don't set phi to 220 apparently"
   ]
  },
  {
   "cell_type": "markdown",
   "metadata": {},
   "source": [
    "========================================"
   ]
  },
  {
   "cell_type": "markdown",
   "metadata": {},
   "source": [
    "Integrating with pyRMSD"
   ]
  },
  {
   "cell_type": "code",
   "execution_count": 25,
   "metadata": {},
   "outputs": [],
   "source": [
    "# Stupid shenanigains to import pyRMSD. You'll probably have to restart the kernal and then run this first\n",
    "\n",
    "import sys\n",
    "sys.path.insert(0, \"/home/bcov/miniconda3/lib/python3.5/site-packages\")\n",
    "import pyRMSD.RMSDCalculator as fast_rmsd_calc"
   ]
  },
  {
   "cell_type": "markdown",
   "metadata": {},
   "source": [
    " Ok, let's start randomly generating poses until we have 100 that are at least 7A rmsd from each other"
   ]
  },
  {
   "cell_type": "code",
   "execution_count": 83,
   "metadata": {},
   "outputs": [],
   "source": [
    "import random\n",
    "\n",
    "# Start our collection arrays with the starting pose\n",
    "saved = [extract_CA(npose)[:,:3]]\n",
    "saved_phis = [get_npose_phis(npose)]\n",
    "saved_psis = [get_npose_psis(npose)]\n",
    "\n",
    "while (len(saved) < 100):\n",
    "    # Make a copy of all the important things\n",
    "    this_pose = extract_CA(npose)\n",
    "    this_phis = get_npose_phis(npose)\n",
    "    this_psis = get_npose_psis(npose)\n",
    "    this_tpose = tpose_from_npose(npose)\n",
    "    \n",
    "    min_rmsd = 0\n",
    "    while (min_rmsd < 7):\n",
    "        # Change phi and psi until we're really random\n",
    "        res = random.randint(0, len(this_pose)-1)\n",
    "        phi = random.randint(0, 360)\n",
    "        psi = random.randint(0, 360)\n",
    "        \n",
    "        this_pose, this_tpose, this_phis = set_ca_phi(this_pose, this_tpose, this_phis, res, phi)\n",
    "        this_pose, this_tpose, this_psis = set_ca_psi(this_pose, this_tpose, this_psis, res, psi)\n",
    "        \n",
    "        calc = fast_rmsd_calc.RMSDCalculator(\"QCP_SERIAL_CALCULATOR\", np.array([this_pose[:,:3]] + saved))\n",
    "        min_rmsd = calc.oneVsTheOthers(1).min()\n",
    "        \n",
    "        \n",
    "    saved.append(this_pose[:,:3])\n",
    "    saved_phis.append(this_phis)\n",
    "    saved_psis.append(this_psis)\n",
    "        \n",
    "    "
   ]
  },
  {
   "cell_type": "code",
   "execution_count": 85,
   "metadata": {},
   "outputs": [],
   "source": [
    "# Dump the poses\n",
    "folder = \"/home/bcov/temp/tempmpp\"\n",
    "try:\n",
    "    os.makedirs(folder)\n",
    "except:\n",
    "    pass\n",
    "\n",
    "for i in range(len(saved_phis)):\n",
    "    \n",
    "    saved_phi = saved_phis[i]\n",
    "    saved_psi = saved_psis[i]\n",
    "    \n",
    "    this_npose = npose.copy()\n",
    "    this_phis = get_npose_phis(npose)\n",
    "    this_psis = get_npose_psis(npose)\n",
    "    this_tpose = tpose_from_npose(npose)\n",
    "    \n",
    "    for resnum in range(nsize(this_npose)):\n",
    "        this_npose, this_tpose, this_phis = set_npose_phi(this_npose, this_tpose, this_phis, resnum, saved_phi[resnum])\n",
    "        this_npose, this_tpose, this_psis = set_npose_psi(this_npose, this_tpose, this_psis, resnum, saved_psi[resnum])\n",
    "    \n",
    "    dump_npdb(this_npose, os.path.join(folder, \"%i.pdb\"%i))"
   ]
  },
  {
   "cell_type": "code",
   "execution_count": null,
   "metadata": {},
   "outputs": [],
   "source": []
  },
  {
   "cell_type": "code",
   "execution_count": 86,
   "metadata": {},
   "outputs": [
    {
     "name": "stdout",
     "output_type": "stream",
     "text": [
      "106 µs ± 1.97 µs per loop (mean ± std. dev. of 7 runs, 10000 loops each)\n"
     ]
    }
   ],
   "source": [
    "# Speed tests\n",
    "%timeit set_ca_phi(this_pose, this_tpose, this_phis, res, phi)"
   ]
  },
  {
   "cell_type": "code",
   "execution_count": 87,
   "metadata": {},
   "outputs": [
    {
     "name": "stdout",
     "output_type": "stream",
     "text": [
      "724 µs ± 11.9 µs per loop (mean ± std. dev. of 7 runs, 1000 loops each)\n"
     ]
    }
   ],
   "source": [
    "def to_time():\n",
    "    calc = fast_rmsd_calc.RMSDCalculator(\"QCP_SERIAL_CALCULATOR\", np.array([this_pose[:,:3]] + saved))\n",
    "    min_rmsd = calc.oneVsTheOthers(1).min()\n",
    "%timeit to_time()"
   ]
  },
  {
   "cell_type": "code",
   "execution_count": null,
   "metadata": {},
   "outputs": [],
   "source": []
  }
 ],
 "metadata": {
  "kernelspec": {
   "display_name": "Python [conda env:dz-pyrosetta]",
   "language": "python",
   "name": "conda-env-dz-pyrosetta-py"
  },
  "language_info": {
   "codemirror_mode": {
    "name": "ipython",
    "version": 3
   },
   "file_extension": ".py",
   "mimetype": "text/x-python",
   "name": "python",
   "nbconvert_exporter": "python",
   "pygments_lexer": "ipython3",
   "version": "3.6.8"
  }
 },
 "nbformat": 4,
 "nbformat_minor": 2
}
